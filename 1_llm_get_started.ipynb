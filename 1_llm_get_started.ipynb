{
 "cells": [
  {
   "cell_type": "code",
   "execution_count": 1,
   "id": "18e38224-4c85-4a48-bc59-cce6f6c9505b",
   "metadata": {},
   "outputs": [
    {
     "name": "stderr",
     "output_type": "stream",
     "text": [
      "D:\\Anaconda\\envs\\llm-env\\lib\\site-packages\\tqdm\\auto.py:21: TqdmWarning: IProgress not found. Please update jupyter and ipywidgets. See https://ipywidgets.readthedocs.io/en/stable/user_install.html\n",
      "  from .autonotebook import tqdm as notebook_tqdm\n"
     ]
    }
   ],
   "source": [
    "import pandas as pd\n",
    "import numpy as np\n",
    "import matplotlib.pyplot as plt\n",
    "\n",
    "from datasets import load_dataset\n",
    "from transformers import AutoModelForSeq2SeqLM, AutoTokenizer, GenerationConfig"
   ]
  },
  {
   "cell_type": "markdown",
   "id": "986c659a-94f1-4661-b82c-ea2311bd3f72",
   "metadata": {},
   "source": [
    "## Load data"
   ]
  },
  {
   "cell_type": "code",
   "execution_count": 2,
   "id": "01c0cc0f-0513-4f1f-9400-696dff4a27a0",
   "metadata": {},
   "outputs": [],
   "source": [
    "dataset_name = \"financial_phrasebank\"\n",
    "\n",
    "dataset = load_dataset(dataset_name, \"sentences_allagree\")"
   ]
  },
  {
   "cell_type": "code",
   "execution_count": 3,
   "id": "752671c2-b611-47dd-806a-4a47eb8927de",
   "metadata": {},
   "outputs": [
    {
     "data": {
      "text/plain": [
       "DatasetDict({\n",
       "    train: Dataset({\n",
       "        features: ['sentence', 'label'],\n",
       "        num_rows: 2264\n",
       "    })\n",
       "})"
      ]
     },
     "execution_count": 3,
     "metadata": {},
     "output_type": "execute_result"
    }
   ],
   "source": [
    "dataset"
   ]
  },
  {
   "cell_type": "code",
   "execution_count": 4,
   "id": "7d00f928-3d44-4766-b356-a86f66b827d9",
   "metadata": {},
   "outputs": [
    {
     "data": {
      "text/plain": [
       "'According to Gran , the company has no plans to move all production to Russia , although that is where the company is growing .'"
      ]
     },
     "execution_count": 4,
     "metadata": {},
     "output_type": "execute_result"
    }
   ],
   "source": [
    "dataset['train'][0]['sentence']"
   ]
  },
  {
   "cell_type": "code",
   "execution_count": 5,
   "id": "9bcca95d-c496-4d08-922a-a0dd25ea8ac6",
   "metadata": {},
   "outputs": [
    {
     "name": "stdout",
     "output_type": "stream",
     "text": [
      "Sentence: According to Gran , the company has no plans to move all production to Russia , although that is where the company is growing .\n",
      "Label: 1\n",
      "Sentence: For the last quarter of 2010 , Componenta 's net sales doubled to EUR131m from EUR76m for the same period a year earlier , while it moved to a zero pre-tax profit from a pre-tax loss of EUR7m .\n",
      "Label: 2\n",
      "Sentence: In the third quarter of 2010 , net sales increased by 5.2 % to EUR 205.5 mn , and operating profit by 34.9 % to EUR 23.5 mn .\n",
      "Label: 2\n",
      "Sentence: Operating profit rose to EUR 13.1 mn from EUR 8.7 mn in the corresponding period in 2007 representing 7.7 % of net sales .\n",
      "Label: 2\n",
      "Sentence: Operating profit totalled EUR 21.1 mn , up from EUR 18.6 mn in 2007 , representing 9.7 % of net sales .\n",
      "Label: 2\n"
     ]
    }
   ],
   "source": [
    "for i in range(5):\n",
    "    print(f\"Sentence: {dataset['train'][i]['sentence']}\")\n",
    "    print(f\"Label: {dataset['train'][i]['label']}\")"
   ]
  },
  {
   "cell_type": "code",
   "execution_count": 6,
   "id": "3f3b55ea-b1c1-4849-a5b7-e60b6a8008e5",
   "metadata": {},
   "outputs": [
    {
     "data": {
      "text/html": [
       "<div>\n",
       "<style scoped>\n",
       "    .dataframe tbody tr th:only-of-type {\n",
       "        vertical-align: middle;\n",
       "    }\n",
       "\n",
       "    .dataframe tbody tr th {\n",
       "        vertical-align: top;\n",
       "    }\n",
       "\n",
       "    .dataframe thead th {\n",
       "        text-align: right;\n",
       "    }\n",
       "</style>\n",
       "<table border=\"1\" class=\"dataframe\">\n",
       "  <thead>\n",
       "    <tr style=\"text-align: right;\">\n",
       "      <th></th>\n",
       "      <th>labels</th>\n",
       "    </tr>\n",
       "  </thead>\n",
       "  <tbody>\n",
       "    <tr>\n",
       "      <th>0</th>\n",
       "      <td>1</td>\n",
       "    </tr>\n",
       "    <tr>\n",
       "      <th>1</th>\n",
       "      <td>2</td>\n",
       "    </tr>\n",
       "    <tr>\n",
       "      <th>2</th>\n",
       "      <td>2</td>\n",
       "    </tr>\n",
       "    <tr>\n",
       "      <th>3</th>\n",
       "      <td>2</td>\n",
       "    </tr>\n",
       "    <tr>\n",
       "      <th>4</th>\n",
       "      <td>2</td>\n",
       "    </tr>\n",
       "  </tbody>\n",
       "</table>\n",
       "</div>"
      ],
      "text/plain": [
       "   labels\n",
       "0       1\n",
       "1       2\n",
       "2       2\n",
       "3       2\n",
       "4       2"
      ]
     },
     "execution_count": 6,
     "metadata": {},
     "output_type": "execute_result"
    }
   ],
   "source": [
    "labels_df = pd.DataFrame()\n",
    "\n",
    "labels_from_dataset = [dataset['train'][i]['label'] for i in range(2264)]\n",
    "\n",
    "labels_df['labels'] = labels_from_dataset\n",
    "labels_df.head()"
   ]
  },
  {
   "cell_type": "code",
   "execution_count": 7,
   "id": "60b1952c-353a-4624-9f07-d4a116120b87",
   "metadata": {},
   "outputs": [
    {
     "data": {
      "text/plain": [
       "labels\n",
       "1    1391\n",
       "2     570\n",
       "0     303\n",
       "Name: count, dtype: int64"
      ]
     },
     "execution_count": 7,
     "metadata": {},
     "output_type": "execute_result"
    }
   ],
   "source": [
    "labels_df['labels'].value_counts()"
   ]
  },
  {
   "cell_type": "code",
   "execution_count": 8,
   "id": "115d65bf-6969-42c8-9735-4c2d29643dbe",
   "metadata": {},
   "outputs": [
    {
     "data": {
      "image/png": "[encoded data removed]",
      "text/plain": [
       "<Figure size 640x480 with 1 Axes>"
      ]
     },
     "metadata": {},
     "output_type": "display_data"
    }
   ],
   "source": [
    "fig, ax = plt.subplots()\n",
    "\n",
    "x = ['Neutral', 'Positive', 'Negative']\n",
    "y = [1391, 570, 303]\n",
    "\n",
    "ax.bar(x,y)\n",
    "ax.set_xlabel('Sentiment')\n",
    "ax.set_ylabel('Count')\n",
    "\n",
    "for i, v in enumerate(y):\n",
    "    plt.text(x=i, y=v+10, s=str(v), ha='center')"
   ]
  },
  {
   "cell_type": "markdown",
   "id": "3434ab6e-0289-4253-bb91-d2686816cfc2",
   "metadata": {},
   "source": [
    "## Load model"
   ]
  },
  {
   "cell_type": "code",
   "execution_count": 10,
   "id": "b4227fe8-97ce-4c65-beae-5329f21c9cf1",
   "metadata": {},
   "outputs": [],
   "source": [
    "model_name = \"google/flan-t5-base\"\n",
    "\n",
    "model = AutoModelForSeq2SeqLM.from_pretrained(model_name)"
   ]
  },
  {
   "cell_type": "code",
   "execution_count": 11,
   "id": "8d231b21-581b-467b-8eac-e80fea15710f",
   "metadata": {},
   "outputs": [],
   "source": [
    "tokenizer = AutoTokenizer.from_pretrained(model_name, use_fast=True)"
   ]
  },
  {
   "cell_type": "code",
   "execution_count": 9,
   "id": "f5cf4f99-58ed-4337-b063-4908795871fc",
   "metadata": {},
   "outputs": [],
   "source": [
    "# test_sentences = [\n",
    "#     \"The Company posted quarterly revenue of $81.8 billion, down 1 percent year over year, and quarterly earnings per diluted share of $1.26, up 5 percent year over year.\",\n",
    "#     \"We are happy to report that we had an all-time revenue record in Services during the June quarter, driven by over 1 billion paid subscriptions\",\n",
    "#     \"Net sales were $1.237 billion for the period, compared to $1.378 billion in the prior year's first quarter.\",\n",
    "#     \"At the start of 2021, GameStop had burdensome debt, dwindling cash, outdated systems and technology, and no meaningful stockholders in the boardroom\"\n",
    "# ]"
   ]
  },
  {
   "cell_type": "markdown",
   "id": "142ba13e-46e6-41a9-a295-6c77a4fb24ef",
   "metadata": {},
   "source": [
    "### No prompt engineering"
   ]
  },
  {
   "cell_type": "code",
   "execution_count": 12,
   "id": "a3631760-4b5a-431b-8f2a-e2d87b6ab14a",
   "metadata": {},
   "outputs": [],
   "source": [
    "# for i in range(2264):\n",
    "#     sentence = dataset['train'][i]['sentence']\n",
    "\n",
    "#     inputs = tokenizer(sentence, return_tensors='pt')\n",
    "#     output = tokenizer.decode(\n",
    "#         model.generate(\n",
    "#             inputs[\"input_ids\"],\n",
    "#             max_new_tokens=50\n",
    "#         )[0],\n",
    "#         skip_special_tokens=True\n",
    "#     )\n",
    "\n",
    "#     print(f\"Sentence: {sentence}\")\n",
    "#     print(f\"Model ouput: {output}\")"
   ]
  },
  {
   "cell_type": "markdown",
   "id": "8bbb7499-9d28-45d4-91ca-eebad863370e",
   "metadata": {},
   "source": [
    "### Zero-shot inference with prompt engineering"
   ]
  },
  {
   "cell_type": "code",
   "execution_count": 13,
   "id": "9e1eae90-8999-411c-935d-21e244e24306",
   "metadata": {},
   "outputs": [
    {
     "data": {
      "text/plain": [
       "['negative', 'positive', 'positive', 'positive', 'positive']"
      ]
     },
     "execution_count": 13,
     "metadata": {},
     "output_type": "execute_result"
    }
   ],
   "source": [
    "zero_shot_sentiment = []\n",
    "\n",
    "for i in range(2264):\n",
    "    sentence = dataset['train'][i]['sentence']\n",
    "\n",
    "    prompt = f\"\"\"\n",
    "Is the follwing sentence positive, negative or neutral?\n",
    "\n",
    "{sentence}\n",
    "    \"\"\"\n",
    "\n",
    "    inputs = tokenizer(prompt, return_tensors='pt')\n",
    "    output = tokenizer.decode(\n",
    "        model.generate(\n",
    "            inputs[\"input_ids\"],\n",
    "            max_new_tokens=50\n",
    "        )[0],\n",
    "        skip_special_tokens=True\n",
    "    )\n",
    "\n",
    "    zero_shot_sentiment.append(output)\n",
    "\n",
    "zero_shot_sentiment[:5]"
   ]
  },
  {
   "cell_type": "code",
   "execution_count": 15,
   "id": "5d00cdce-aa71-4b62-a992-346d25c7ec06",
   "metadata": {},
   "outputs": [
    {
     "data": {
      "text/html": [
       "<div>\n",
       "<style scoped>\n",
       "    .dataframe tbody tr th:only-of-type {\n",
       "        vertical-align: middle;\n",
       "    }\n",
       "\n",
       "    .dataframe tbody tr th {\n",
       "        vertical-align: top;\n",
       "    }\n",
       "\n",
       "    .dataframe thead th {\n",
       "        text-align: right;\n",
       "    }\n",
       "</style>\n",
       "<table border=\"1\" class=\"dataframe\">\n",
       "  <thead>\n",
       "    <tr style=\"text-align: right;\">\n",
       "      <th></th>\n",
       "      <th>labels</th>\n",
       "      <th>zero_shot_sentiment</th>\n",
       "    </tr>\n",
       "  </thead>\n",
       "  <tbody>\n",
       "    <tr>\n",
       "      <th>0</th>\n",
       "      <td>1</td>\n",
       "      <td>0</td>\n",
       "    </tr>\n",
       "    <tr>\n",
       "      <th>1</th>\n",
       "      <td>2</td>\n",
       "      <td>2</td>\n",
       "    </tr>\n",
       "    <tr>\n",
       "      <th>2</th>\n",
       "      <td>2</td>\n",
       "      <td>2</td>\n",
       "    </tr>\n",
       "    <tr>\n",
       "      <th>3</th>\n",
       "      <td>2</td>\n",
       "      <td>2</td>\n",
       "    </tr>\n",
       "    <tr>\n",
       "      <th>4</th>\n",
       "      <td>2</td>\n",
       "      <td>2</td>\n",
       "    </tr>\n",
       "  </tbody>\n",
       "</table>\n",
       "</div>"
      ],
      "text/plain": [
       "   labels  zero_shot_sentiment\n",
       "0       1                    0\n",
       "1       2                    2\n",
       "2       2                    2\n",
       "3       2                    2\n",
       "4       2                    2"
      ]
     },
     "execution_count": 15,
     "metadata": {},
     "output_type": "execute_result"
    }
   ],
   "source": [
    "labels_df['zero_shot_sentiment'] = zero_shot_sentiment\n",
    "labels_df['zero_shot_sentiment'] = labels_df['zero_shot_sentiment'].map({'neutral':1, 'positive':2, 'negative':0})\n",
    "\n",
    "labels_df.head()"
   ]
  },
  {
   "cell_type": "code",
   "execution_count": 17,
   "id": "67c12131-aac1-4203-8ad0-1b8fff5f6622",
   "metadata": {},
   "outputs": [
    {
     "data": {
      "image/png": "[encoded data removed]",
      "text/plain": [
       "<Figure size 640x480 with 2 Axes>"
      ]
     },
     "metadata": {},
     "output_type": "display_data"
    }
   ],
   "source": [
    "from sklearn.metrics import confusion_matrix, ConfusionMatrixDisplay\n",
    "\n",
    "cm = confusion_matrix(labels_df['labels'], labels_df['zero_shot_sentiment'], labels=[0,1,2])\n",
    "\n",
    "disp_cm = ConfusionMatrixDisplay(cm, display_labels=[0,1,2])\n",
    "\n",
    "disp_cm.plot();\n",
    "\n",
    "plt.grid(False)\n",
    "plt.tight_layout()"
   ]
  },
  {
   "cell_type": "markdown",
   "id": "02812254-76ab-4b0a-8722-2a376bc04673",
   "metadata": {},
   "source": [
    "### One-shot inference"
   ]
  },
  {
   "cell_type": "code",
   "execution_count": 19,
   "id": "4563fbb6-e0af-4dd6-a2a3-02c41008f78f",
   "metadata": {},
   "outputs": [
    {
     "data": {
      "text/plain": [
       "['positive', 'positive', 'positive', 'positive', 'positive']"
      ]
     },
     "execution_count": 19,
     "metadata": {},
     "output_type": "execute_result"
    }
   ],
   "source": [
    "one_shot_sentiment = []\n",
    "\n",
    "for i in range(2264):\n",
    "    sentence = dataset['train'][i]['sentence']\n",
    "\n",
    "    prompt = f\"\"\"\n",
    "\n",
    "Is the follwing sentence positive, negative or neutral?\n",
    "\n",
    "Statement: \"According to Gran , the company has no plans to move all production to Russia , although that is where the company is growing .\"\n",
    "neutral\n",
    "\n",
    "Is the follwing sentence positive, negative or neutral?\n",
    "Statement: {sentence}\n",
    "\n",
    "{sentence}\n",
    "    \"\"\"\n",
    "\n",
    "    inputs = tokenizer(prompt, return_tensors='pt')\n",
    "    output = tokenizer.decode(\n",
    "        model.generate(\n",
    "            inputs[\"input_ids\"],\n",
    "            max_new_tokens=50\n",
    "        )[0],\n",
    "        skip_special_tokens=True\n",
    "    )\n",
    "\n",
    "    one_shot_sentiment.append(output)\n",
    "\n",
    "one_shot_sentiment[:5]"
   ]
  },
  {
   "cell_type": "code",
   "execution_count": 20,
   "id": "1c01adbb-ab75-4762-8a66-02200b8b0740",
   "metadata": {},
   "outputs": [
    {
     "data": {
      "text/html": [
       "<div>\n",
       "<style scoped>\n",
       "    .dataframe tbody tr th:only-of-type {\n",
       "        vertical-align: middle;\n",
       "    }\n",
       "\n",
       "    .dataframe tbody tr th {\n",
       "        vertical-align: top;\n",
       "    }\n",
       "\n",
       "    .dataframe thead th {\n",
       "        text-align: right;\n",
       "    }\n",
       "</style>\n",
       "<table border=\"1\" class=\"dataframe\">\n",
       "  <thead>\n",
       "    <tr style=\"text-align: right;\">\n",
       "      <th></th>\n",
       "      <th>labels</th>\n",
       "      <th>zero_shot_sentiment</th>\n",
       "      <th>one_shot_sentiment</th>\n",
       "    </tr>\n",
       "  </thead>\n",
       "  <tbody>\n",
       "    <tr>\n",
       "      <th>0</th>\n",
       "      <td>1</td>\n",
       "      <td>0</td>\n",
       "      <td>2</td>\n",
       "    </tr>\n",
       "    <tr>\n",
       "      <th>1</th>\n",
       "      <td>2</td>\n",
       "      <td>2</td>\n",
       "      <td>2</td>\n",
       "    </tr>\n",
       "    <tr>\n",
       "      <th>2</th>\n",
       "      <td>2</td>\n",
       "      <td>2</td>\n",
       "      <td>2</td>\n",
       "    </tr>\n",
       "    <tr>\n",
       "      <th>3</th>\n",
       "      <td>2</td>\n",
       "      <td>2</td>\n",
       "      <td>2</td>\n",
       "    </tr>\n",
       "    <tr>\n",
       "      <th>4</th>\n",
       "      <td>2</td>\n",
       "      <td>2</td>\n",
       "      <td>2</td>\n",
       "    </tr>\n",
       "  </tbody>\n",
       "</table>\n",
       "</div>"
      ],
      "text/plain": [
       "   labels  zero_shot_sentiment  one_shot_sentiment\n",
       "0       1                    0                   2\n",
       "1       2                    2                   2\n",
       "2       2                    2                   2\n",
       "3       2                    2                   2\n",
       "4       2                    2                   2"
      ]
     },
     "execution_count": 20,
     "metadata": {},
     "output_type": "execute_result"
    }
   ],
   "source": [
    "labels_df['one_shot_sentiment'] = one_shot_sentiment\n",
    "labels_df['one_shot_sentiment'] = labels_df['one_shot_sentiment'].map({'neutral':1, 'positive':2, 'negative':0})\n",
    "\n",
    "labels_df.head()"
   ]
  },
  {
   "cell_type": "code",
   "execution_count": 22,
   "id": "21b56ec5-b9c8-4df1-83ac-db335906bee6",
   "metadata": {},
   "outputs": [
    {
     "data": {
      "image/png": "[encoded data removed]",
      "text/plain": [
       "<Figure size 640x480 with 2 Axes>"
      ]
     },
     "metadata": {},
     "output_type": "display_data"
    }
   ],
   "source": [
    "cm = confusion_matrix(labels_df['labels'], labels_df['one_shot_sentiment'], labels=[0,1,2])\n",
    "\n",
    "disp_cm = ConfusionMatrixDisplay(cm, display_labels=[0,1,2])\n",
    "\n",
    "disp_cm.plot();\n",
    "\n",
    "plt.grid(False)\n",
    "plt.tight_layout()"
   ]
  },
  {
   "cell_type": "code",
   "execution_count": null,
   "id": "8eb8661b-35f3-4c17-b68f-67619e40c6b5",
   "metadata": {},
   "outputs": [],
   "source": []
  }
 ],
 "metadata": {
  "kernelspec": {
   "display_name": "Python 3 (ipykernel)",
   "language": "python",
   "name": "python3"
  },
  "language_info": {
   "codemirror_mode": {
    "name": "ipython",
    "version": 3
   },
   "file_extension": ".py",
   "mimetype": "text/x-python",
   "name": "python",
   "nbconvert_exporter": "python",
   "pygments_lexer": "ipython3",
   "version": "3.10.12"
  }
 },
 "nbformat": 4,
 "nbformat_minor": 5
}
